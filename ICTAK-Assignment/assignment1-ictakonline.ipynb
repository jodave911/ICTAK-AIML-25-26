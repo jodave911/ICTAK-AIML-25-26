{
 "cells": [
  {
   "cell_type": "code",
   "execution_count": null,
   "id": "e98788f1",
   "metadata": {},
   "outputs": [],
   "source": [
    "# Assignment 01\n",
    "# Python Basics\n",
    "\n",
    "# Done By : JOSHUA DAVID "
   ]
  },
  {
   "cell_type": "markdown",
   "id": "68e0dc90",
   "metadata": {},
   "source": []
  },
  {
   "cell_type": "code",
   "execution_count": null,
   "id": "080e06f3",
   "metadata": {},
   "outputs": [],
   "source": [
    "# <!-- 1. Simple ATM Calculator\n",
    "# Write a program that takes the user's account balance and withdrawal amount. If\n",
    "# sufficient balance is available, deduct the amount and display the updated balance.\n",
    "# Otherwise, print an error message.\n",
    "\n",
    "# Sample Input:\n",
    "# Balance = 5000\n",
    "# Withdrawal = 1500\n",
    "\n",
    "# Sample Output:\n",
    "# Transaction successful. Remaining balance: ₹3500 -->"
   ]
  },
  {
   "cell_type": "code",
   "execution_count": 3,
   "id": "caae0e18",
   "metadata": {},
   "outputs": [
    {
     "name": "stdout",
     "output_type": "stream",
     "text": [
      "Current Balance: ₹5000.0\n",
      "Transaction successful.\n",
      "Remaining balance: ₹4177.0\n"
     ]
    }
   ],
   "source": [
    "balance = 5000.00\n",
    "print(f\"Current Balance: ₹{balance}\")\n",
    "\n",
    "withdrawal_str = input(\"Enter the amount to withdraw: \")\n",
    "\n",
    "withdrawal_amount = float(withdrawal_str)\n",
    "\n",
    "if withdrawal_amount <= balance:\n",
    "    balance -= withdrawal_amount\n",
    "    print(\"Transaction successful.\")\n",
    "    print(f\"Remaining balance: ₹{balance:}\")\n",
    "else:\n",
    "    print(\"Error: Insufficient balance for this transaction.\")"
   ]
  },
  {
   "cell_type": "markdown",
   "id": "007221e1",
   "metadata": {},
   "source": []
  },
  {
   "cell_type": "code",
   "execution_count": null,
   "id": "74453617",
   "metadata": {},
   "outputs": [],
   "source": [
    "# <!-- 2. Electricity Bill Generator\n",
    "# Create a bill calculator where the user enters the number of units consumed. The rate is\n",
    "# ₹5 per unit for the first 100 units, ₹7 for the next 100, and ₹10 for anything above 200\n",
    "# units. Calculate and display the total bill.\n",
    "\n",
    "# Sample Input:\n",
    "# Units consumed = 275\n",
    "\n",
    "# Sample Output:\n",
    "# Bill amount = ₹1000 (100×5 + 100×7 + 75×10) -->"
   ]
  },
  {
   "cell_type": "code",
   "execution_count": 4,
   "id": "a7df1a44",
   "metadata": {},
   "outputs": [
    {
     "name": "stdout",
     "output_type": "stream",
     "text": [
      "Total units consumed: 124\n",
      "Calculated bill amount: ₹668\n"
     ]
    }
   ],
   "source": [
    "units_consumed = int(input(\"Enter the number of units consumed: \"))\n",
    "\n",
    "bill_amount = 0\n",
    "\n",
    "if units_consumed <= 100:\n",
    "    bill_amount = units_consumed * 5\n",
    "\n",
    "elif units_consumed <= 200:\n",
    "    bill_amount = (100 * 5) + (units_consumed - 100) * 7\n",
    "\n",
    "else:\n",
    "    bill_amount = (100 * 5) + (100 * 7) + (units_consumed - 200) * 10\n",
    "\n",
    "print(f\"Total units consumed: {units_consumed}\")\n",
    "print(f\"Calculated bill amount: ₹{bill_amount}\")"
   ]
  },
  {
   "cell_type": "markdown",
   "id": "ced03436",
   "metadata": {},
   "source": []
  },
  {
   "cell_type": "code",
   "execution_count": null,
   "id": "6c68a74f",
   "metadata": {},
   "outputs": [],
   "source": [
    "# <!-- 3. Temperature Converter\n",
    "# Write a Python program to convert a given temperature value between Celsius and\n",
    "# Fahrenheit. Accept input as a number and a unit indicator ('C' or 'F').\n",
    "# Sample Input:\n",
    "# Temp = \"37\"\n",
    "# Unit = \"C\"\n",
    "# Sample Output:\n",
    "# Temperature in Fahrenheit: 98.6°F -->"
   ]
  },
  {
   "cell_type": "code",
   "execution_count": null,
   "id": "9c93d0c3",
   "metadata": {},
   "outputs": [
    {
     "name": "stdout",
     "output_type": "stream",
     "text": [
      "Temperature in Fahrenheit: 87.8°F\n"
     ]
    }
   ],
   "source": [
    "temp_str = input(\"Enter the temperature value: \")\n",
    "unit = input(\"Enter the unit ('C' for Celsius, 'F' for Fahrenheit): \")\n",
    "\n",
    "temp_value = float(temp_str)\n",
    "\n",
    "if unit.upper() == 'C':\n",
    "    fahrenheit = (temp_value * 9/5) + 32\n",
    "    print(f\"Temperature in Fahrenheit: {fahrenheit:}°F\")\n",
    "elif unit.upper() == 'F':\n",
    "    celsius = (temp_value - 32) * 5/9\n",
    "    print(f\"Temperature in Celsius: {celsius:}°C\")\n",
    "else:\n",
    "    print(\"Error: Invalid unit. Please enter 'C' or 'F'.\")\n"
   ]
  },
  {
   "cell_type": "markdown",
   "id": "2b0d6766",
   "metadata": {},
   "source": []
  },
  {
   "cell_type": "code",
   "execution_count": null,
   "id": "bdc9175b",
   "metadata": {},
   "outputs": [],
   "source": [
    "# <!-- 4. Mobile Recharge Validity\n",
    "# Write a program that takes the recharge date and today’s date as input and checks\n",
    "# whether the 28-day recharge plan is still valid or expired.\n",
    "# Sample Input:\n",
    "# Recharge date: 2025-07-01\n",
    "# Today : 2025-07-30\n",
    "# Sample Output:\n",
    "# Plan expired. Recharge again. -->"
   ]
  },
  {
   "cell_type": "code",
   "execution_count": null,
   "id": "899ef87e",
   "metadata": {},
   "outputs": [
    {
     "name": "stdout",
     "output_type": "stream",
     "text": [
      "Recharge date: 23\n"
     ]
    }
   ],
   "source": [
    "recharge_date = input(\"Enter the recharge date (YYYY-MM-DD): \")\n",
    "recharge_day = int(recharge_date.split('-')[2])\n",
    "print (f\"Recharge date: {recharge_day}\")"
   ]
  },
  {
   "cell_type": "code",
   "execution_count": null,
   "id": "786124ea",
   "metadata": {},
   "outputs": [
    {
     "name": "stdout",
     "output_type": "stream",
     "text": [
      "Days passed since recharge: 29\n",
      "Plan expired. Recharge again.\n"
     ]
    }
   ],
   "source": [
    "recharge_date = input(\"Enter the recharge date (YYYY-MM-DD): \")\n",
    "today_date = input(\"Enter today's date (YYYY-MM-DD): \")\n",
    "\n",
    "recharge_day = int(recharge_date.split('-')[2])\n",
    "today_day = int(today_date.split('-')[2])\n",
    "\n",
    "\n",
    "days_passed = today_day - recharge_day\n",
    "\n",
    "print(f\"Days passed since recharge: {days_passed}\")\n",
    "\n",
    "if days_passed < 28:\n",
    "    print(\"Your plan is still valid.\")\n",
    "else:\n",
    "    print(\"Plan expired. Recharge again.\")"
   ]
  },
  {
   "cell_type": "code",
   "execution_count": null,
   "id": "2305d3ea",
   "metadata": {},
   "outputs": [],
   "source": [
    "# <!-- 5. Bus Seat Reservation System:\n",
    "# A list contains the names of passengers in order of booking. A cancellation occurs; remove\n",
    "# the name from the list and shift the rest. Also, insert a new booking at a specified position.\n",
    "\n",
    "# Sample Input:\n",
    "# Booked = ['Amit', 'Sara', 'John'],\n",
    "# Cancel = 'Sara',\n",
    "# New = 'Neha', Position = 1\n",
    "\n",
    "# Sample Output:\n",
    "# ['Amit', 'Neha', 'John'] -->"
   ]
  },
  {
   "cell_type": "markdown",
   "id": "6f5f134d",
   "metadata": {},
   "source": []
  },
  {
   "cell_type": "code",
   "execution_count": 4,
   "id": "19ae204c",
   "metadata": {},
   "outputs": [
    {
     "name": "stdout",
     "output_type": "stream",
     "text": [
      "Initial booking list: ['Amit', 'Sara', 'John']\n",
      "Cancelled booking for: Amit\n",
      "List after cancellation: ['Sara', 'John']\n",
      "List after adding new booking: ['Sara', 'John']\n",
      "Added new booking for 'Josha' at position 1.\n",
      "List after adding new booking: ['Sara', 'Josha', 'John']\n",
      "Final booking list: ['Sara', 'Josha', 'John']\n"
     ]
    }
   ],
   "source": [
    "def cancel_booking():\n",
    "    passenger_to_cancel = input(\"Enter the name of the passenger to cancel booking: \")\n",
    "    if passenger_to_cancel in booked_passengers:\n",
    "        booked_passengers.remove(passenger_to_cancel)\n",
    "        print(f\"Cancelled booking for: {passenger_to_cancel}\")\n",
    "        print(f\"List after cancellation: {booked_passengers}\")\n",
    "    else:\n",
    "        print(f\"Passenger {passenger_to_cancel} not found in booking list.\")\n",
    "    print(f\"List after adding new booking: {booked_passengers}\")\n",
    "\n",
    "\n",
    "def new_booking():\n",
    "    new_passenger = input(\"Enter the name of the new passenger to book: \")\n",
    "    insert_position = 1\n",
    "    booked_passengers.insert(insert_position, new_passenger)\n",
    "    print(f\"Added new booking for '{new_passenger}' at position {insert_position}.\")\n",
    "    print(f\"List after adding new booking: {booked_passengers}\")\n",
    "\n",
    "booked_passengers = ['Amit', 'Sara', 'John']\n",
    "print(f\"Initial booking list: {booked_passengers}\")\n",
    "cancel_booking()\n",
    "new_booking()\n",
    "print(f\"Final booking list: {booked_passengers}\")"
   ]
  },
  {
   "cell_type": "markdown",
   "id": "d965f6d5",
   "metadata": {},
   "source": []
  },
  {
   "cell_type": "code",
   "execution_count": null,
   "id": "9aed1cbd",
   "metadata": {},
   "outputs": [],
   "source": [
    "# <!-- 6. Sum of even numbers\n",
    "# Write a program that takes a number as input and prints the sum of all even numbers\n",
    "# from 1 to that number.\n",
    "# Sample Input:\n",
    "# Number: 10\n",
    "# Sample Output:\n",
    "# Sum of even numbers: 30\n",
    "# (2 + 4 + 6 + 8 + 10) -->"
   ]
  },
  {
   "cell_type": "code",
   "execution_count": null,
   "id": "6c3ac268",
   "metadata": {},
   "outputs": [
    {
     "name": "stdout",
     "output_type": "stream",
     "text": [
      "The sum of even numbers from 1 to 10 is: 30\n"
     ]
    }
   ],
   "source": [
    "nomber = int(input(\"Enter a number (N): \"))\n",
    "sum_of_evenno = 0\n",
    "\n",
    "for i in range(1, nomber + 1):\n",
    "    if i % 2 == 0:\n",
    "        sum_of_evenno += i\n",
    "\n",
    "print(f\"The sum of even numbers from 1 to {nomber} is: {sum_of_evenno}\")"
   ]
  },
  {
   "cell_type": "markdown",
   "id": "ae50155d",
   "metadata": {},
   "source": []
  },
  {
   "cell_type": "code",
   "execution_count": null,
   "id": "96d12928",
   "metadata": {},
   "outputs": [],
   "source": [
    "# <!-- 7. Dictionary – Student Marks Summary\n",
    "# Write a program that takes input of 3 students’ names and their marks, stores them in a\n",
    "# dictionary, and prints the average marks.\n",
    "\n",
    "# Sample Input:\n",
    "# Enter name: Alice \n",
    "# Enter marks: 80\n",
    "# Enter name: Bob\n",
    "# Enter marks: 90\n",
    "# Enter name: Charlie\n",
    "# Enter marks: 70\n",
    "\n",
    "# Sample Output:\n",
    "# Average Marks: 80.0 -->"
   ]
  },
  {
   "cell_type": "code",
   "execution_count": 10,
   "id": "7998b733",
   "metadata": {},
   "outputs": [
    {
     "name": "stdout",
     "output_type": "stream",
     "text": [
      "Enter names and marks for 3 students.\n",
      "\n",
      "Mark Sumery\n",
      "Student Data: {'josh ': 12, 'dace': 32, 'enid': 42}\n",
      "Average Marks: 28.7\n"
     ]
    }
   ],
   "source": [
    "student_marks = {}\n",
    "num_students = 3\n",
    "\n",
    "print(f\"Enter names and marks for {num_students} students.\")\n",
    "\n",
    "for i in range(num_students):\n",
    "    name = input(f\"Enter the name for student {i+1}: \")\n",
    "    marks_str = input(f\"Enter marks for {name}: \")\n",
    "    marks = int(marks_str)\n",
    "    student_marks[name] = marks\n",
    "\n",
    "total_marks = sum(student_marks.values())\n",
    "average_marks = total_marks / len(student_marks)\n",
    "\n",
    "print(\"\\nMark Sumery\")\n",
    "print(f\"Student Data: {student_marks}\")\n",
    "print(f\"Average Marks: {average_marks:.1f}\")\n"
   ]
  },
  {
   "cell_type": "markdown",
   "id": "693ff9a5",
   "metadata": {},
   "source": []
  },
  {
   "cell_type": "code",
   "execution_count": null,
   "id": "44654209",
   "metadata": {},
   "outputs": [],
   "source": [
    "# <!-- 8. Dictionary – Word Frequency\n",
    "# Write a program that takes a sentence and displays the frequency of each word using a\n",
    "# dictionary.\n",
    "\n",
    "# Sample Input:\n",
    "# Sentence: hello world hello python\n",
    "\n",
    "# Sample Output:\n",
    "# hello: 2\n",
    "# world: 1\n",
    "# python: 1 -->"
   ]
  },
  {
   "cell_type": "code",
   "execution_count": 6,
   "id": "51f617b6",
   "metadata": {},
   "outputs": [
    {
     "name": "stdout",
     "output_type": "stream",
     "text": [
      "\n",
      "Word Frequencies:\n",
      "i: 2\n",
      "was: 2\n",
      "a: 2\n",
      "good: 1\n",
      "child: 2\n",
      "and: 1\n",
      "bad: 1\n"
     ]
    }
   ],
   "source": [
    "sentence = input(\"Enter a sentence: \")\n",
    "\n",
    "word_frequency = {}\n",
    "words = sentence.lower().split()\n",
    "\n",
    "for word in words:\n",
    "    if word in word_frequency:\n",
    "        word_frequency[word] += 1\n",
    "    else:\n",
    "        word_frequency[word] = 1\n",
    "\n",
    "print(\"\\nWord Frequencies:\")\n",
    "for word, count in word_frequency.items():\n",
    "    print(f\"{word}: {count}\")"
   ]
  },
  {
   "cell_type": "markdown",
   "id": "493881bf",
   "metadata": {},
   "source": []
  },
  {
   "cell_type": "code",
   "execution_count": null,
   "id": "88414133",
   "metadata": {},
   "outputs": [],
   "source": [
    "# <!-- 9. Functions – Check Prime\n",
    "# Write a function that checks whether a number is prime. Call the function with user input.\n",
    "# Sample Input:\n",
    "# Enter a number : 17\n",
    "# Sample output:\n",
    "# 17 is a prime numbe -->"
   ]
  },
  {
   "cell_type": "code",
   "execution_count": 22,
   "id": "bf9e8a5c",
   "metadata": {},
   "outputs": [
    {
     "name": "stdout",
     "output_type": "stream",
     "text": [
      "17 is a prime number.\n"
     ]
    }
   ],
   "source": [
    "def is_prime(number):\n",
    "    if number < 2:\n",
    "        return False\n",
    "    \n",
    "    for i in range(2, int(number**0.5) + 1):\n",
    "        if number % i == 0:\n",
    "            return False\n",
    "            \n",
    "    return True\n",
    "\n",
    "\n",
    "input_num = int(input(\"Enter a number to check if it's prime: \"))\n",
    "if is_prime(input_num):\n",
    "        print(f\"{input_num} is a prime number.\")\n",
    "else:\n",
    "        print(f\"{input_num} is not a prime number.\")"
   ]
  },
  {
   "cell_type": "markdown",
   "id": "7b77eefc",
   "metadata": {},
   "source": []
  },
  {
   "cell_type": "code",
   "execution_count": null,
   "id": "4ab7ea2b",
   "metadata": {},
   "outputs": [],
   "source": [
    "# <!-- 10. Vowel Counter\n",
    "# Write a function that takes a string and returns the number of vowels in it.\n",
    "\n",
    "# Sample Input:\n",
    "# Enter a string: Python Programming\n",
    "\n",
    "# Sample output:\n",
    "# Number of vowels: 4 -->"
   ]
  },
  {
   "cell_type": "code",
   "execution_count": 8,
   "id": "7336c406",
   "metadata": {},
   "outputs": [
    {
     "name": "stdout",
     "output_type": "stream",
     "text": [
      "Number of vowels in: Joshua David Zoe is: 7\n"
     ]
    }
   ],
   "source": [
    "def count_vowels(input_string):\n",
    "    vowels = \"aeiou\"\n",
    "    vowel_count = 0\n",
    "    for char in input_string.lower():\n",
    "        if char in vowels:\n",
    "            vowel_count += 1\n",
    "    return vowel_count\n",
    "\n",
    "user_string = input(\"Enter a string: \")\n",
    "\n",
    "num_vowels = count_vowels(user_string)\n",
    "\n",
    "print(f\"Number of vowels in: {user_string} is: {num_vowels}\")"
   ]
  },
  {
   "cell_type": "markdown",
   "id": "a7c2aab6",
   "metadata": {},
   "source": []
  },
  {
   "cell_type": "code",
   "execution_count": null,
   "id": "5c9c2f76",
   "metadata": {},
   "outputs": [],
   "source": [
    "# <!-- 11. Count Divisible Numbers\n",
    "# Write a program that takes two numbers as input: a range limit N and a divisor D. Count\n",
    "# how many numbers between 1 and N are divisible by D.\n",
    "\n",
    "# Sample Input:\n",
    "# Enter the range limit (N): 50\n",
    "# Enter the divisor (D): 5\n",
    "\n",
    "# Sample output:\n",
    "# Count of numbers divisible by 5: 10\n",
    "# (i.e., 5, 10, 15, ..., 50) -->"
   ]
  },
  {
   "cell_type": "code",
   "execution_count": 20,
   "id": "ddcdad9a",
   "metadata": {},
   "outputs": [
    {
     "name": "stdout",
     "output_type": "stream",
     "text": [
      "The count is: 10\n"
     ]
    }
   ],
   "source": [
    "count_loop = 0\n",
    "limit_N = int(input(\"Enter the range limit (N): \"))\n",
    "divisor_D = int(input(\"Enter the divisor (D): \"))\n",
    "\n",
    "\n",
    "for number in range(1, limit_N + 1):\n",
    "    if number % divisor_D == 0:\n",
    "        count_loop += 1\n",
    "\n",
    "print(f\"The count is: {count_loop}\")"
   ]
  },
  {
   "cell_type": "code",
   "execution_count": null,
   "id": "00ca2ad3",
   "metadata": {},
   "outputs": [],
   "source": []
  }
 ],
 "metadata": {
  "kernelspec": {
   "display_name": ".venv (3.12.3)",
   "language": "python",
   "name": "python3"
  },
  "language_info": {
   "codemirror_mode": {
    "name": "ipython",
    "version": 3
   },
   "file_extension": ".py",
   "mimetype": "text/x-python",
   "name": "python",
   "nbconvert_exporter": "python",
   "pygments_lexer": "ipython3",
   "version": "3.12.3"
  }
 },
 "nbformat": 4,
 "nbformat_minor": 5
}
