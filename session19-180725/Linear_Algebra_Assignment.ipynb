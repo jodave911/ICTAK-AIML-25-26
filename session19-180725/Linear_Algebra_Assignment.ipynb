{
 "cells": [
  {
   "cell_type": "markdown",
   "id": "c1420930",
   "metadata": {},
   "source": [
    "# Linear Algebra Assignment"
   ]
  },
  {
   "cell_type": "markdown",
   "id": "5222df71",
   "metadata": {},
   "source": [
    "## Question 1\n",
    "Using auto-mpg data, find the top 5 similar cars to toyota corona mark ii"
   ]
  },
  {
   "cell_type": "code",
   "execution_count": 18,
   "id": "67aa0659",
   "metadata": {},
   "outputs": [
    {
     "data": {
      "text/html": [
       "<div>\n",
       "<style scoped>\n",
       "    .dataframe tbody tr th:only-of-type {\n",
       "        vertical-align: middle;\n",
       "    }\n",
       "\n",
       "    .dataframe tbody tr th {\n",
       "        vertical-align: top;\n",
       "    }\n",
       "\n",
       "    .dataframe thead th {\n",
       "        text-align: right;\n",
       "    }\n",
       "</style>\n",
       "<table border=\"1\" class=\"dataframe\">\n",
       "  <thead>\n",
       "    <tr style=\"text-align: right;\">\n",
       "      <th></th>\n",
       "      <th>mpg</th>\n",
       "      <th>cylinders</th>\n",
       "      <th>displacement</th>\n",
       "      <th>horsepower</th>\n",
       "      <th>weight</th>\n",
       "      <th>acceleration</th>\n",
       "      <th>model year</th>\n",
       "      <th>origin</th>\n",
       "      <th>car name</th>\n",
       "    </tr>\n",
       "  </thead>\n",
       "  <tbody>\n",
       "    <tr>\n",
       "      <th>0</th>\n",
       "      <td>18.0</td>\n",
       "      <td>8</td>\n",
       "      <td>307.0</td>\n",
       "      <td>130</td>\n",
       "      <td>3504</td>\n",
       "      <td>12.0</td>\n",
       "      <td>70</td>\n",
       "      <td>1</td>\n",
       "      <td>chevrolet chevelle malibu</td>\n",
       "    </tr>\n",
       "    <tr>\n",
       "      <th>1</th>\n",
       "      <td>15.0</td>\n",
       "      <td>8</td>\n",
       "      <td>350.0</td>\n",
       "      <td>165</td>\n",
       "      <td>3693</td>\n",
       "      <td>11.5</td>\n",
       "      <td>70</td>\n",
       "      <td>1</td>\n",
       "      <td>buick skylark 320</td>\n",
       "    </tr>\n",
       "    <tr>\n",
       "      <th>2</th>\n",
       "      <td>18.0</td>\n",
       "      <td>8</td>\n",
       "      <td>318.0</td>\n",
       "      <td>150</td>\n",
       "      <td>3436</td>\n",
       "      <td>11.0</td>\n",
       "      <td>70</td>\n",
       "      <td>1</td>\n",
       "      <td>plymouth satellite</td>\n",
       "    </tr>\n",
       "    <tr>\n",
       "      <th>3</th>\n",
       "      <td>16.0</td>\n",
       "      <td>8</td>\n",
       "      <td>304.0</td>\n",
       "      <td>150</td>\n",
       "      <td>3433</td>\n",
       "      <td>12.0</td>\n",
       "      <td>70</td>\n",
       "      <td>1</td>\n",
       "      <td>amc rebel sst</td>\n",
       "    </tr>\n",
       "    <tr>\n",
       "      <th>4</th>\n",
       "      <td>17.0</td>\n",
       "      <td>8</td>\n",
       "      <td>302.0</td>\n",
       "      <td>140</td>\n",
       "      <td>3449</td>\n",
       "      <td>10.5</td>\n",
       "      <td>70</td>\n",
       "      <td>1</td>\n",
       "      <td>ford torino</td>\n",
       "    </tr>\n",
       "    <tr>\n",
       "      <th>...</th>\n",
       "      <td>...</td>\n",
       "      <td>...</td>\n",
       "      <td>...</td>\n",
       "      <td>...</td>\n",
       "      <td>...</td>\n",
       "      <td>...</td>\n",
       "      <td>...</td>\n",
       "      <td>...</td>\n",
       "      <td>...</td>\n",
       "    </tr>\n",
       "    <tr>\n",
       "      <th>393</th>\n",
       "      <td>27.0</td>\n",
       "      <td>4</td>\n",
       "      <td>140.0</td>\n",
       "      <td>86</td>\n",
       "      <td>2790</td>\n",
       "      <td>15.6</td>\n",
       "      <td>82</td>\n",
       "      <td>1</td>\n",
       "      <td>ford mustang gl</td>\n",
       "    </tr>\n",
       "    <tr>\n",
       "      <th>394</th>\n",
       "      <td>44.0</td>\n",
       "      <td>4</td>\n",
       "      <td>97.0</td>\n",
       "      <td>52</td>\n",
       "      <td>2130</td>\n",
       "      <td>24.6</td>\n",
       "      <td>82</td>\n",
       "      <td>2</td>\n",
       "      <td>vw pickup</td>\n",
       "    </tr>\n",
       "    <tr>\n",
       "      <th>395</th>\n",
       "      <td>32.0</td>\n",
       "      <td>4</td>\n",
       "      <td>135.0</td>\n",
       "      <td>84</td>\n",
       "      <td>2295</td>\n",
       "      <td>11.6</td>\n",
       "      <td>82</td>\n",
       "      <td>1</td>\n",
       "      <td>dodge rampage</td>\n",
       "    </tr>\n",
       "    <tr>\n",
       "      <th>396</th>\n",
       "      <td>28.0</td>\n",
       "      <td>4</td>\n",
       "      <td>120.0</td>\n",
       "      <td>79</td>\n",
       "      <td>2625</td>\n",
       "      <td>18.6</td>\n",
       "      <td>82</td>\n",
       "      <td>1</td>\n",
       "      <td>ford ranger</td>\n",
       "    </tr>\n",
       "    <tr>\n",
       "      <th>397</th>\n",
       "      <td>31.0</td>\n",
       "      <td>4</td>\n",
       "      <td>119.0</td>\n",
       "      <td>82</td>\n",
       "      <td>2720</td>\n",
       "      <td>19.4</td>\n",
       "      <td>82</td>\n",
       "      <td>1</td>\n",
       "      <td>chevy s-10</td>\n",
       "    </tr>\n",
       "  </tbody>\n",
       "</table>\n",
       "<p>398 rows × 9 columns</p>\n",
       "</div>"
      ],
      "text/plain": [
       "      mpg  cylinders  displacement horsepower  weight  acceleration  \\\n",
       "0    18.0          8         307.0        130    3504          12.0   \n",
       "1    15.0          8         350.0        165    3693          11.5   \n",
       "2    18.0          8         318.0        150    3436          11.0   \n",
       "3    16.0          8         304.0        150    3433          12.0   \n",
       "4    17.0          8         302.0        140    3449          10.5   \n",
       "..    ...        ...           ...        ...     ...           ...   \n",
       "393  27.0          4         140.0         86    2790          15.6   \n",
       "394  44.0          4          97.0         52    2130          24.6   \n",
       "395  32.0          4         135.0         84    2295          11.6   \n",
       "396  28.0          4         120.0         79    2625          18.6   \n",
       "397  31.0          4         119.0         82    2720          19.4   \n",
       "\n",
       "     model year  origin                   car name  \n",
       "0            70       1  chevrolet chevelle malibu  \n",
       "1            70       1          buick skylark 320  \n",
       "2            70       1         plymouth satellite  \n",
       "3            70       1              amc rebel sst  \n",
       "4            70       1                ford torino  \n",
       "..          ...     ...                        ...  \n",
       "393          82       1            ford mustang gl  \n",
       "394          82       2                  vw pickup  \n",
       "395          82       1              dodge rampage  \n",
       "396          82       1                ford ranger  \n",
       "397          82       1                 chevy s-10  \n",
       "\n",
       "[398 rows x 9 columns]"
      ]
     },
     "execution_count": 18,
     "metadata": {},
     "output_type": "execute_result"
    }
   ],
   "source": [
    "import pandas as pd\n",
    "import numpy as np\n",
    "from sklearn.decomposition import PCA\n",
    "from sklearn.preprocessing import StandardScaler\n",
    "import matplotlib.pyplot as plt\n",
    "\n",
    "\n",
    "df = pd.read_csv('auto-mpg (1).csv')\n",
    "df"
   ]
  },
  {
   "cell_type": "code",
   "execution_count": 49,
   "id": "f31d9caf",
   "metadata": {},
   "outputs": [
    {
     "data": {
      "text/plain": [
       "mpg               24.0\n",
       "cylinders          4.0\n",
       "displacement     113.0\n",
       "weight          2372.0\n",
       "acceleration      15.0\n",
       "model year        70.0\n",
       "origin             3.0\n",
       "Name: 14, dtype: float64"
      ]
     },
     "execution_count": 49,
     "metadata": {},
     "output_type": "execute_result"
    }
   ],
   "source": [
    "toyota_corona_mark = df[df['car name'] == 'toyota corona mark ii'].select_dtypes(include=np.number).dropna().iloc[0]\n",
    "toyota_corona_mark"
   ]
  },
  {
   "cell_type": "code",
   "execution_count": 4,
   "id": "4fddd31f",
   "metadata": {},
   "outputs": [
    {
     "data": {
      "text/html": [
       "<div>\n",
       "<style scoped>\n",
       "    .dataframe tbody tr th:only-of-type {\n",
       "        vertical-align: middle;\n",
       "    }\n",
       "\n",
       "    .dataframe tbody tr th {\n",
       "        vertical-align: top;\n",
       "    }\n",
       "\n",
       "    .dataframe thead th {\n",
       "        text-align: right;\n",
       "    }\n",
       "</style>\n",
       "<table border=\"1\" class=\"dataframe\">\n",
       "  <thead>\n",
       "    <tr style=\"text-align: right;\">\n",
       "      <th></th>\n",
       "      <th>mpg</th>\n",
       "      <th>cylinders</th>\n",
       "      <th>displacement</th>\n",
       "      <th>weight</th>\n",
       "      <th>acceleration</th>\n",
       "      <th>model year</th>\n",
       "      <th>origin</th>\n",
       "    </tr>\n",
       "  </thead>\n",
       "  <tbody>\n",
       "    <tr>\n",
       "      <th>0</th>\n",
       "      <td>18.0</td>\n",
       "      <td>8</td>\n",
       "      <td>307.0</td>\n",
       "      <td>3504</td>\n",
       "      <td>12.0</td>\n",
       "      <td>70</td>\n",
       "      <td>1</td>\n",
       "    </tr>\n",
       "    <tr>\n",
       "      <th>1</th>\n",
       "      <td>15.0</td>\n",
       "      <td>8</td>\n",
       "      <td>350.0</td>\n",
       "      <td>3693</td>\n",
       "      <td>11.5</td>\n",
       "      <td>70</td>\n",
       "      <td>1</td>\n",
       "    </tr>\n",
       "    <tr>\n",
       "      <th>2</th>\n",
       "      <td>18.0</td>\n",
       "      <td>8</td>\n",
       "      <td>318.0</td>\n",
       "      <td>3436</td>\n",
       "      <td>11.0</td>\n",
       "      <td>70</td>\n",
       "      <td>1</td>\n",
       "    </tr>\n",
       "    <tr>\n",
       "      <th>3</th>\n",
       "      <td>16.0</td>\n",
       "      <td>8</td>\n",
       "      <td>304.0</td>\n",
       "      <td>3433</td>\n",
       "      <td>12.0</td>\n",
       "      <td>70</td>\n",
       "      <td>1</td>\n",
       "    </tr>\n",
       "    <tr>\n",
       "      <th>4</th>\n",
       "      <td>17.0</td>\n",
       "      <td>8</td>\n",
       "      <td>302.0</td>\n",
       "      <td>3449</td>\n",
       "      <td>10.5</td>\n",
       "      <td>70</td>\n",
       "      <td>1</td>\n",
       "    </tr>\n",
       "    <tr>\n",
       "      <th>...</th>\n",
       "      <td>...</td>\n",
       "      <td>...</td>\n",
       "      <td>...</td>\n",
       "      <td>...</td>\n",
       "      <td>...</td>\n",
       "      <td>...</td>\n",
       "      <td>...</td>\n",
       "    </tr>\n",
       "    <tr>\n",
       "      <th>393</th>\n",
       "      <td>27.0</td>\n",
       "      <td>4</td>\n",
       "      <td>140.0</td>\n",
       "      <td>2790</td>\n",
       "      <td>15.6</td>\n",
       "      <td>82</td>\n",
       "      <td>1</td>\n",
       "    </tr>\n",
       "    <tr>\n",
       "      <th>394</th>\n",
       "      <td>44.0</td>\n",
       "      <td>4</td>\n",
       "      <td>97.0</td>\n",
       "      <td>2130</td>\n",
       "      <td>24.6</td>\n",
       "      <td>82</td>\n",
       "      <td>2</td>\n",
       "    </tr>\n",
       "    <tr>\n",
       "      <th>395</th>\n",
       "      <td>32.0</td>\n",
       "      <td>4</td>\n",
       "      <td>135.0</td>\n",
       "      <td>2295</td>\n",
       "      <td>11.6</td>\n",
       "      <td>82</td>\n",
       "      <td>1</td>\n",
       "    </tr>\n",
       "    <tr>\n",
       "      <th>396</th>\n",
       "      <td>28.0</td>\n",
       "      <td>4</td>\n",
       "      <td>120.0</td>\n",
       "      <td>2625</td>\n",
       "      <td>18.6</td>\n",
       "      <td>82</td>\n",
       "      <td>1</td>\n",
       "    </tr>\n",
       "    <tr>\n",
       "      <th>397</th>\n",
       "      <td>31.0</td>\n",
       "      <td>4</td>\n",
       "      <td>119.0</td>\n",
       "      <td>2720</td>\n",
       "      <td>19.4</td>\n",
       "      <td>82</td>\n",
       "      <td>1</td>\n",
       "    </tr>\n",
       "  </tbody>\n",
       "</table>\n",
       "<p>397 rows × 7 columns</p>\n",
       "</div>"
      ],
      "text/plain": [
       "      mpg  cylinders  displacement  weight  acceleration  model year  origin\n",
       "0    18.0          8         307.0    3504          12.0          70       1\n",
       "1    15.0          8         350.0    3693          11.5          70       1\n",
       "2    18.0          8         318.0    3436          11.0          70       1\n",
       "3    16.0          8         304.0    3433          12.0          70       1\n",
       "4    17.0          8         302.0    3449          10.5          70       1\n",
       "..    ...        ...           ...     ...           ...         ...     ...\n",
       "393  27.0          4         140.0    2790          15.6          82       1\n",
       "394  44.0          4          97.0    2130          24.6          82       2\n",
       "395  32.0          4         135.0    2295          11.6          82       1\n",
       "396  28.0          4         120.0    2625          18.6          82       1\n",
       "397  31.0          4         119.0    2720          19.4          82       1\n",
       "\n",
       "[397 rows x 7 columns]"
      ]
     },
     "execution_count": 4,
     "metadata": {},
     "output_type": "execute_result"
    }
   ],
   "source": [
    "other_cars = df[df['car name'] != 'toyota corona mark ii'].select_dtypes(include=np.number).dropna()\n",
    "other_cars"
   ]
  },
  {
   "cell_type": "code",
   "execution_count": 5,
   "id": "b951ed64",
   "metadata": {},
   "outputs": [
    {
     "data": {
      "text/plain": [
       "0      8351726.0\n",
       "1      8804813.5\n",
       "2      8191658.0\n",
       "3      8182927.0\n",
       "4      8220654.5\n",
       "         ...    \n",
       "393    6640341.0\n",
       "394    5070508.0\n",
       "395    5465696.0\n",
       "396    6246770.0\n",
       "397    6472081.0\n",
       "Length: 397, dtype: float64"
      ]
     },
     "execution_count": 5,
     "metadata": {},
     "output_type": "execute_result"
    }
   ],
   "source": [
    "dot_products = other_cars.apply(lambda row: np.dot(row, toyota_corona_mark), axis=1)\n",
    "dot_products"
   ]
  },
  {
   "cell_type": "code",
   "execution_count": 9,
   "id": "05049dca",
   "metadata": {},
   "outputs": [
    {
     "name": "stdout",
     "output_type": "stream",
     "text": [
      "The most five similar cars are: \n",
      " \n",
      "                      car name\n",
      "44        pontiac safari (sw)\n",
      "103          chevrolet impala\n",
      "42          dodge monaco (sw)\n",
      "95   buick electra 225 custom\n",
      "90   mercury marquis brougham\n"
     ]
    }
   ],
   "source": [
    "most_similar_cars_indices = dot_products.nlargest(5).index\n",
    "most_similar_cars = df.loc[most_similar_cars_indices][['car name']]\n",
    "print(\"The most five similar cars are: \\n \\n\", most_similar_cars)"
   ]
  },
  {
   "cell_type": "markdown",
   "id": "8c9e5c34",
   "metadata": {},
   "source": [
    "## Question 2\n",
    "Find completely unique/orthogonal car to toyota corona mark ii"
   ]
  },
  {
   "cell_type": "code",
   "execution_count": 13,
   "id": "249fe683",
   "metadata": {},
   "outputs": [
    {
     "data": {
      "text/plain": [
       "0      0.999146\n",
       "1      0.998821\n",
       "2      0.998943\n",
       "3      0.999110\n",
       "4      0.999149\n",
       "         ...   \n",
       "393    0.999996\n",
       "394    0.999889\n",
       "395    0.999910\n",
       "396    0.999996\n",
       "397    0.999991\n",
       "Length: 397, dtype: float64"
      ]
     },
     "execution_count": 13,
     "metadata": {},
     "output_type": "execute_result"
    }
   ],
   "source": [
    "def cosine_similarity(vec1, vec2):\n",
    "  dot_product = np.dot(vec1, vec2)\n",
    "  norm_vec1 = np.linalg.norm(vec1)\n",
    "  norm_vec2 = np.linalg.norm(vec2)\n",
    "  if norm_vec1 == 0 or norm_vec2 == 0:\n",
    "    return 0\n",
    "  return dot_product / (norm_vec1 * norm_vec2)\n",
    "\n",
    "similarities = other_cars.apply(lambda row: cosine_similarity(row, toyota_corona_mark), axis=1)\n",
    "similarities"
   ]
  },
  {
   "cell_type": "code",
   "execution_count": 20,
   "id": "40303fe3",
   "metadata": {},
   "outputs": [
    {
     "name": "stdout",
     "output_type": "stream",
     "text": [
      "the least similar car is: \n",
      " \n",
      " car name        buick estate wagon (sw)\n",
      "mpg                                14.0\n",
      "cylinders                             8\n",
      "displacement                      455.0\n",
      "horsepower                          225\n",
      "weight                             3086\n",
      "acceleration                       10.0\n",
      "model year                           70\n",
      "origin                                1\n",
      "Name: 13, dtype: object\n"
     ]
    }
   ],
   "source": [
    "least_similar_car_index = similarities.nsmallest(1).index[0]\n",
    "least_similar_car = df.loc[least_similar_car_index][['car name', 'mpg', 'cylinders', 'displacement', 'horsepower', 'weight', 'acceleration', 'model year', 'origin']]\n",
    "print(\"the least similar car is: \\n \\n\", least_similar_car)"
   ]
  },
  {
   "cell_type": "markdown",
   "id": "39d7a2d2",
   "metadata": {},
   "source": [
    "### Question 3\n",
    "Project the data to a 2-dimentional space and visualize using scatter plot"
   ]
  },
  {
   "cell_type": "code",
   "execution_count": 22,
   "id": "7b04477f",
   "metadata": {},
   "outputs": [
    {
     "name": "stdout",
     "output_type": "stream",
     "text": [
      "Scatter plot of the 2D projected data saved as 'pca_scatter_plot.png'\n",
      "\n",
      "\n"
     ]
    },
    {
     "data": {
      "image/png": "[encoded data removed]",
      "text/plain": [
       "<Figure size 1000x800 with 1 Axes>"
      ]
     },
     "metadata": {},
     "output_type": "display_data"
    }
   ],
   "source": [
    "features = df.select_dtypes(include=np.number).dropna()\n",
    "scaler = StandardScaler()\n",
    "scaled_features = scaler.fit_transform(features)\n",
    "\n",
    "pca = PCA(n_components=2)\n",
    "principal_components = pca.fit_transform(scaled_features)\n",
    "\n",
    "# Create a scatter plot\n",
    "plt.figure(figsize=(10, 8))\n",
    "plt.scatter(principal_components[:, 0], principal_components[:, 1], alpha=0.7)\n",
    "plt.xlabel('Principal Component 1')\n",
    "plt.ylabel('Principal Component 2')\n",
    "plt.title('2D PCA of Auto-MPG Dataset')\n",
    "plt.grid(True)\n",
    "plt.savefig('pca_scatter_plot.png')\n",
    "print(\"Scatter plot of the 2D projected data saved as 'pca_scatter_plot.png'\")\n",
    "print(\"\\n\")\n"
   ]
  },
  {
   "cell_type": "markdown",
   "id": "7aa6151d",
   "metadata": {},
   "source": [
    "### Question 4\n",
    "Write a function that returns dot product of two list of numbers"
   ]
  },
  {
   "cell_type": "code",
   "execution_count": 29,
   "id": "3cf99ab5",
   "metadata": {},
   "outputs": [
    {
     "name": "stdout",
     "output_type": "stream",
     "text": [
      "np.dot= 71\n",
      "manual dot product= 71\n"
     ]
    }
   ],
   "source": [
    "# Your code here\n",
    "def your_function_21(l1, l2):\n",
    "    dot_products = np.dot(l1, l2)\n",
    "    print(\"np.dot=\", dot_products)\n",
    "    pass\n",
    "\n",
    "def manual_dotproduct(l1, l2):\n",
    "    dot = sum(x*y for x, y in zip(l1, l2))\n",
    "    print(\"manual dot product=\", dot)\n",
    "\n",
    "\n",
    "\n",
    "l1 = [1, 4, 3, 4, 5]\n",
    "l2 = [6, 7, 8, 2, 1]\n",
    "your_function_21(l1, l2)\n",
    "manual_dotproduct(l1, l2)"
   ]
  },
  {
   "cell_type": "markdown",
   "id": "e6657c17",
   "metadata": {},
   "source": [
    "### Question 5\n",
    "Write a function that returns the projection of vector a onto vector b. Both a and b are given as list of numbers"
   ]
  },
  {
   "cell_type": "markdown",
   "id": "4c532c16",
   "metadata": {},
   "source": [
    "\n",
    "- Operations on vectors\n",
    "    - Projection of a vector $a$ into vector $b$ \n",
    "    - $d = \\frac{a \\cdot b}{\\Vert b \\Vert} = \\frac{\\Vert a \\Vert \\Vert b \\Vert \\cos \\theta}{\\Vert b \\Vert} = \\Vert a \\Vert \\cos \\theta$"
   ]
  },
  {
   "cell_type": "code",
   "execution_count": 39,
   "id": "25a24bdc",
   "metadata": {},
   "outputs": [
    {
     "name": "stdout",
     "output_type": "stream",
     "text": [
      "projectio= 5.7213430445802\n",
      "manual projection= 5.7213430445802\n"
     ]
    }
   ],
   "source": [
    "# Your code here\n",
    "def your_function_22(l1, l2):\n",
    "    projection = np.dot(l1, l2) / np.linalg.norm(l2)\n",
    "    print(\"projectio=\", projection)\n",
    "    pass\n",
    "\n",
    "def manual_projection(l1, l2):\n",
    "    dot = sum(x*y for x, y in zip(l1, l2))\n",
    "    norm_l2 = np.linalg.norm(l2)\n",
    "    projection = dot / norm_l2\n",
    "    print(\"manual projection=\", projection)\n",
    "\n",
    "l1 = [1, 4, 3, 4, 5]\n",
    "l2 = [6, 7, 8, 2, 1]\n",
    "\n",
    "your_function_22(l1, l2)\n",
    "manual_projection(l1, l2)"
   ]
  },
  {
   "cell_type": "markdown",
   "id": "219b6efc",
   "metadata": {},
   "source": [
    "### Question 6\n",
    "Create a class Vector that supports addition, dot product, and magnitude."
   ]
  },
  {
   "cell_type": "code",
   "execution_count": null,
   "id": "3aaaa102",
   "metadata": {},
   "outputs": [],
   "source": [
    "class Vector:\n",
    "    def dot(l1, l2):\n",
    "        sum =(l1*l2 for x, y in zip(l1, l2))\n",
    "        print(\"Dot product=\", sum)\n",
    "        pass\n",
    "    \n",
    "    def projection(l1, l2):\n",
    "        projection = np.dot(l1, l2) / np.linalg.norm(l2)\n",
    "        print(\"Projection=\", projection)\n",
    "        pass\n",
    "\n",
    "    def norm(l1, l2):\n",
    "        norm_l1 = np.linalg.norm(l1)\n",
    "        norm_l2 = np.linalg.norm(l2)\n",
    "\n",
    "        print(\"norm of l1=\", norm_l1)\n",
    "        print(\"norm of l2=\", norm_l2)\n",
    "        pass\n",
    "\n",
    "    def magnitude(l1, l2):\n",
    "        magnitude_l1 = np.linalg.norm(l1)\n",
    "        magnitude_l2 = np.linalg.norm(l2)\n",
    "        print(\"Magnitude of l1=\", magnitude_l1)\n",
    "        print(\"Magnitude of l2=\", magnitude_l2)\n",
    "        pass\n"
   ]
  },
  {
   "cell_type": "code",
   "execution_count": 45,
   "id": "d6661450",
   "metadata": {},
   "outputs": [
    {
     "name": "stdout",
     "output_type": "stream",
     "text": [
      "Dot product= <generator object Vector.dot.<locals>.<genexpr> at 0x70e8b158ea40>\n",
      "Projection= 5.7213430445802\n",
      "norm of l1= 8.18535277187245\n",
      "norm of l2= 12.409673645990857\n",
      "Magnitude of l1= 8.18535277187245\n",
      "Magnitude of l2= 12.409673645990857\n"
     ]
    }
   ],
   "source": [
    "l1 = [1, 4, 3, 4, 5]\n",
    "l2 = [6, 7, 8, 2, 1]\n",
    "\n",
    "\n",
    "Vector.dot(l1, l2)\n",
    "Vector.projection(l1, l2)\n",
    "Vector.norm(l1, l2)\n",
    "Vector.magnitude(l1, l2)"
   ]
  },
  {
   "cell_type": "markdown",
   "id": "5788f326",
   "metadata": {},
   "source": [
    "### Question 7\n",
    "Write a function that returns the L1 and L2 norms of a vector given as list"
   ]
  },
  {
   "cell_type": "code",
   "execution_count": 41,
   "id": "6bc87def",
   "metadata": {},
   "outputs": [
    {
     "name": "stdout",
     "output_type": "stream",
     "text": [
      "norm of l1= 8.18535277187245\n",
      "norm of l2= 12.409673645990857\n"
     ]
    }
   ],
   "source": [
    "def your_function_28(l1, l2):\n",
    "    projection = np.dot(l1, l2) / np.linalg.norm(l2)\n",
    "    print(\"projection=\", projection)    \n",
    "    pass\n",
    "\n",
    "def manual_norms(l1, l2):\n",
    "    norm_l1 = np.linalg.norm(l1)\n",
    "    norm_l2 = np.linalg.norm(l2)\n",
    "\n",
    "    print(\"norm of l1=\", norm_l1)\n",
    "    print(\"norm of l2=\", norm_l2)\n",
    "    pass\n",
    "\n",
    "l1 = [1, 4, 3, 4, 5]\n",
    "l2 = [6, 7, 8, 2, 1]\n",
    "\n",
    "manual_norms(l1, l2)\n"
   ]
  },
  {
   "cell_type": "code",
   "execution_count": null,
   "id": "da82edb4",
   "metadata": {},
   "outputs": [],
   "source": []
  }
 ],
 "metadata": {
  "kernelspec": {
   "display_name": ".venv",
   "language": "python",
   "name": "python3"
  },
  "language_info": {
   "codemirror_mode": {
    "name": "ipython",
    "version": 3
   },
   "file_extension": ".py",
   "mimetype": "text/x-python",
   "name": "python",
   "nbconvert_exporter": "python",
   "pygments_lexer": "ipython3",
   "version": "3.12.3"
  }
 },
 "nbformat": 4,
 "nbformat_minor": 5
}
