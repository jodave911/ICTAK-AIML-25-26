{
 "cells": [
  {
   "cell_type": "markdown",
   "id": "5fe72f5f",
   "metadata": {},
   "source": [
    "## Assignment\n",
    "> ##### *NumPy Problems*\n",
    "> ##### *Pandas Problems*\n",
    "> ##### *Matplotlib Problems*"
   ]
  },
  {
   "cell_type": "markdown",
   "id": "6add9f96",
   "metadata": {},
   "source": [
    "#### *1.1 Basic Array Operations*\n",
    "Convert the mpg column into a NumPy array and calculate:\n",
    "> The mean, median, and standard deviation of mpg.\n",
    "\n",
    "> The number of cars with mpg greater than 25."
   ]
  },
  {
   "cell_type": "code",
   "execution_count": 14,
   "id": "38d651d0",
   "metadata": {},
   "outputs": [
    {
     "name": "stdout",
     "output_type": "stream",
     "text": [
      "Mean mpg: 23.514572864321607\n",
      "Median mpg: 23.0\n",
      "Standard Deviation of mpg: 7.806159061274433\n"
     ]
    }
   ],
   "source": [
    "import pandas as pd\n",
    "import numpy as np\n",
    "\n",
    "df = pd.read_csv('auto-mpg (1).csv')\n",
    "\n",
    "mpg_ary = np.array(df[\"mpg\"]) \n",
    "\n",
    "mean_mpg = np.mean(mpg_ary)\n",
    "median_mpg = np.median(mpg_ary)\n",
    "std_mpg = np.std(mpg_ary)\n",
    "\n",
    "print(\"Mean mpg:\", mean_mpg)\n",
    "print(\"Median mpg:\", median_mpg)\n",
    "print(\"Standard Deviation of mpg:\", std_mpg)"
   ]
  },
  {
   "cell_type": "code",
   "execution_count": 15,
   "id": "45800fc2",
   "metadata": {},
   "outputs": [
    {
     "name": "stdout",
     "output_type": "stream",
     "text": [
      "Mean mpg: 23.514572864321607\n"
     ]
    }
   ],
   "source": [
    "mean_mpg = np.mean(mpg_ary)\n",
    "print(\"Mean mpg:\", mean_mpg)"
   ]
  },
  {
   "cell_type": "code",
   "execution_count": 11,
   "id": "4fc9e897",
   "metadata": {},
   "outputs": [
    {
     "data": {
      "text/plain": [
       "array([18. , 15. , 18. , 16. , 17. , 15. , 14. , 14. , 14. , 15. , 15. ,\n",
       "       14. , 15. , 14. , 24. , 22. , 18. , 21. , 27. , 26. , 25. , 24. ,\n",
       "       25. , 26. , 21. , 10. , 10. , 11. ,  9. , 27. , 28. , 25. , 25. ,\n",
       "       19. , 16. , 17. , 19. , 18. , 14. , 14. , 14. , 14. , 12. , 13. ,\n",
       "       13. , 18. , 22. , 19. , 18. , 23. , 28. , 30. , 30. , 31. , 35. ,\n",
       "       27. , 26. , 24. , 25. , 23. , 20. , 21. , 13. , 14. , 15. , 14. ,\n",
       "       17. , 11. , 13. , 12. , 13. , 19. , 15. , 13. , 13. , 14. , 18. ,\n",
       "       22. , 21. , 26. , 22. , 28. , 23. , 28. , 27. , 13. , 14. , 13. ,\n",
       "       14. , 15. , 12. , 13. , 13. , 14. , 13. , 12. , 13. , 18. , 16. ,\n",
       "       18. , 18. , 23. , 26. , 11. , 12. , 13. , 12. , 18. , 20. , 21. ,\n",
       "       22. , 18. , 19. , 21. , 26. , 15. , 16. , 29. , 24. , 20. , 19. ,\n",
       "       15. , 24. , 20. , 11. , 20. , 21. , 19. , 15. , 31. , 26. , 32. ,\n",
       "       25. , 16. , 16. , 18. , 16. , 13. , 14. , 14. , 14. , 29. , 26. ,\n",
       "       26. , 31. , 32. , 28. , 24. , 26. , 24. , 26. , 31. , 19. , 18. ,\n",
       "       15. , 15. , 16. , 15. , 16. , 14. , 17. , 16. , 15. , 18. , 21. ,\n",
       "       20. , 13. , 29. , 23. , 20. , 23. , 24. , 25. , 24. , 18. , 29. ,\n",
       "       19. , 23. , 23. , 22. , 25. , 33. , 28. , 25. , 25. , 26. , 27. ,\n",
       "       17.5, 16. , 15.5, 14.5, 22. , 22. , 24. , 22.5, 29. , 24.5, 29. ,\n",
       "       33. , 20. , 18. , 18.5, 17.5, 29.5, 32. , 28. , 26.5, 20. , 13. ,\n",
       "       19. , 19. , 16.5, 16.5, 13. , 13. , 13. , 31.5, 30. , 36. , 25.5,\n",
       "       33.5, 17.5, 17. , 15.5, 15. , 17.5, 20.5, 19. , 18.5, 16. , 15.5,\n",
       "       15.5, 16. , 29. , 24.5, 26. , 25.5, 30.5, 33.5, 30. , 30.5, 22. ,\n",
       "       21.5, 21.5, 43.1, 36.1, 32.8, 39.4, 36.1, 19.9, 19.4, 20.2, 19.2,\n",
       "       20.5, 20.2, 25.1, 20.5, 19.4, 20.6, 20.8, 18.6, 18.1, 19.2, 17.7,\n",
       "       18.1, 17.5, 30. , 27.5, 27.2, 30.9, 21.1, 23.2, 23.8, 23.9, 20.3,\n",
       "       17. , 21.6, 16.2, 31.5, 29.5, 21.5, 19.8, 22.3, 20.2, 20.6, 17. ,\n",
       "       17.6, 16.5, 18.2, 16.9, 15.5, 19.2, 18.5, 31.9, 34.1, 35.7, 27.4,\n",
       "       25.4, 23. , 27.2, 23.9, 34.2, 34.5, 31.8, 37.3, 28.4, 28.8, 26.8,\n",
       "       33.5, 41.5, 38.1, 32.1, 37.2, 28. , 26.4, 24.3, 19.1, 34.3, 29.8,\n",
       "       31.3, 37. , 32.2, 46.6, 27.9, 40.8, 44.3, 43.4, 36.4, 30. , 44.6,\n",
       "       40.9, 33.8, 29.8, 32.7, 23.7, 35. , 23.6, 32.4, 27.2, 26.6, 25.8,\n",
       "       23.5, 30. , 39.1, 39. , 35.1, 32.3, 37. , 37.7, 34.1, 34.7, 34.4,\n",
       "       29.9, 33. , 34.5, 33.7, 32.4, 32.9, 31.6, 28.1, 30.7, 25.4, 24.2,\n",
       "       22.4, 26.6, 20.2, 17.6, 28. , 27. , 34. , 31. , 29. , 27. , 24. ,\n",
       "       23. , 36. , 37. , 31. , 38. , 36. , 36. , 36. , 34. , 38. , 32. ,\n",
       "       38. , 25. , 38. , 26. , 22. , 32. , 36. , 27. , 27. , 44. , 32. ,\n",
       "       28. , 31. ])"
      ]
     },
     "execution_count": 11,
     "metadata": {},
     "output_type": "execute_result"
    }
   ],
   "source": [
    "mpg_ary"
   ]
  },
  {
   "cell_type": "markdown",
   "id": "55864b40",
   "metadata": {},
   "source": [
    "#### 1.2 Filtering\n",
    "Using NumPy, filter all cars with more than 6 cylinders.\n",
    "Return the corresponding car_name as a list."
   ]
  },
  {
   "cell_type": "code",
   "execution_count": 39,
   "id": "01ccdb14",
   "metadata": {},
   "outputs": [
    {
     "data": {
      "text/plain": [
       "['chevrolet chevelle malibu',\n",
       " 'buick skylark 320',\n",
       " 'plymouth satellite',\n",
       " 'amc rebel sst',\n",
       " 'ford torino',\n",
       " 'ford galaxie 500',\n",
       " 'chevrolet impala',\n",
       " 'plymouth fury iii',\n",
       " 'pontiac catalina',\n",
       " 'amc ambassador dpl',\n",
       " 'dodge challenger se',\n",
       " \"plymouth 'cuda 340\",\n",
       " 'chevrolet monte carlo',\n",
       " 'buick estate wagon (sw)',\n",
       " 'ford f250',\n",
       " 'chevy c20',\n",
       " 'dodge d200',\n",
       " 'hi 1200d',\n",
       " 'chevrolet impala',\n",
       " 'pontiac catalina brougham',\n",
       " 'ford galaxie 500',\n",
       " 'plymouth fury iii',\n",
       " 'dodge monaco (sw)',\n",
       " 'ford country squire (sw)',\n",
       " 'pontiac safari (sw)',\n",
       " 'chevrolet impala',\n",
       " 'pontiac catalina',\n",
       " 'plymouth fury iii',\n",
       " 'ford galaxie 500',\n",
       " 'amc ambassador sst',\n",
       " 'mercury marquis',\n",
       " 'buick lesabre custom',\n",
       " 'oldsmobile delta 88 royale',\n",
       " 'chrysler newport royal',\n",
       " 'amc matador (sw)',\n",
       " 'chevrolet chevelle concours (sw)',\n",
       " 'ford gran torino (sw)',\n",
       " 'plymouth satellite custom (sw)',\n",
       " 'buick century 350',\n",
       " 'amc matador',\n",
       " 'chevrolet malibu',\n",
       " 'ford gran torino',\n",
       " 'dodge coronet custom',\n",
       " 'mercury marquis brougham',\n",
       " 'chevrolet caprice classic',\n",
       " 'ford ltd',\n",
       " 'plymouth fury gran sedan',\n",
       " 'chrysler new yorker brougham',\n",
       " 'buick electra 225 custom',\n",
       " 'amc ambassador brougham',\n",
       " 'chevrolet impala',\n",
       " 'ford country',\n",
       " 'plymouth custom suburb',\n",
       " 'oldsmobile vista cruiser',\n",
       " 'chevrolet monte carlo s',\n",
       " 'pontiac grand prix',\n",
       " 'dodge dart custom',\n",
       " 'oldsmobile omega',\n",
       " 'ford gran torino',\n",
       " 'buick century luxus (sw)',\n",
       " 'dodge coronet custom (sw)',\n",
       " 'ford gran torino (sw)',\n",
       " 'amc matador (sw)',\n",
       " 'pontiac catalina',\n",
       " 'chevrolet bel air',\n",
       " 'plymouth grand fury',\n",
       " 'ford ltd',\n",
       " 'chevrolet monza 2+2',\n",
       " 'ford mustang ii',\n",
       " 'chevrolet chevelle malibu classic',\n",
       " 'dodge coronet brougham',\n",
       " 'amc matador',\n",
       " 'ford gran torino',\n",
       " 'plymouth volare premier v8',\n",
       " 'cadillac seville',\n",
       " 'chevy c10',\n",
       " 'ford f108',\n",
       " 'dodge d100',\n",
       " 'chevrolet caprice classic',\n",
       " 'oldsmobile cutlass supreme',\n",
       " 'dodge monaco brougham',\n",
       " 'mercury cougar brougham',\n",
       " 'pontiac grand prix lj',\n",
       " 'chevrolet monte carlo landau',\n",
       " 'chrysler cordoba',\n",
       " 'ford thunderbird',\n",
       " 'oldsmobile cutlass salon brougham',\n",
       " 'dodge diplomat',\n",
       " 'mercury monarch ghia',\n",
       " 'chevrolet monte carlo landau',\n",
       " 'ford futura',\n",
       " 'dodge magnum xe',\n",
       " 'chevrolet caprice classic',\n",
       " 'ford ltd landau',\n",
       " 'mercury grand marquis',\n",
       " 'dodge st. regis',\n",
       " 'buick estate wagon (sw)',\n",
       " 'ford country squire (sw)',\n",
       " 'chevrolet malibu classic (sw)',\n",
       " 'chrysler lebaron town @ country (sw)',\n",
       " 'cadillac eldorado',\n",
       " 'oldsmobile cutlass salon brougham',\n",
       " 'oldsmobile cutlass ls']"
      ]
     },
     "execution_count": 39,
     "metadata": {},
     "output_type": "execute_result"
    }
   ],
   "source": [
    "mask = df['cylinders'] > 6\n",
    "\n",
    "cars_over_6_cyl = df.loc[mask, 'car name'].tolist()\n",
    "cars_over_6_cyl"
   ]
  },
  {
   "cell_type": "markdown",
   "id": "b40ba8fa",
   "metadata": {},
   "source": []
  },
  {
   "cell_type": "markdown",
   "id": "4804e7f2",
   "metadata": {},
   "source": [
    "#### *1.3 Statistical Analysis*\n",
    "Compute the 25th, 50th, and 75th percentiles of the weight column using NumPy."
   ]
  },
  {
   "cell_type": "code",
   "execution_count": 45,
   "id": "5066bad1",
   "metadata": {},
   "outputs": [
    {
     "name": "stdout",
     "output_type": "stream",
     "text": [
      "Q1: 2223.75\n",
      "Q2: 2803.5\n",
      "Q3: 3608.0\n"
     ]
    }
   ],
   "source": [
    "def percentile(data, percent):\n",
    "    perce=np.percentile(data, percent)\n",
    "    return perce\n",
    "\n",
    "weight_ary = np.array(df[\"weight\"]) \n",
    "\n",
    "\n",
    "q1 = percentile(weight_ary, 25)\n",
    "print(\"Q1:\", q1)\n",
    "q2 = percentile(weight_ary, 50)\n",
    "print(\"Q2:\", q2)\n",
    "q3 = percentile(weight_ary, 75)\n",
    "print(\"Q3:\", q3)"
   ]
  },
  {
   "cell_type": "markdown",
   "id": "38b90244",
   "metadata": {},
   "source": [
    "#### *1.4 Array Manipulation*\n",
    "Convert the acceleration column into a NumPy array and normalize its values\n",
    "(scale between 0 and 1)."
   ]
  },
  {
   "cell_type": "code",
   "execution_count": 50,
   "id": "bfbdba85",
   "metadata": {},
   "outputs": [],
   "source": [
    "acc_ary = np.array(df[\"acceleration\"]) \n"
   ]
  },
  {
   "cell_type": "code",
   "execution_count": null,
   "id": "0b9e01d7",
   "metadata": {},
   "outputs": [
    {
     "data": {
      "text/plain": [
       "array([0.23809524, 0.20833333, 0.17857143, 0.23809524, 0.14880952,\n",
       "       0.11904762, 0.05952381, 0.0297619 , 0.11904762, 0.0297619 ,\n",
       "       0.11904762, 0.        , 0.08928571, 0.11904762, 0.41666667,\n",
       "       0.44642857, 0.44642857, 0.47619048, 0.38690476, 0.74404762,\n",
       "       0.56547619, 0.38690476, 0.56547619, 0.26785714, 0.41666667,\n",
       "       0.35714286, 0.41666667, 0.32738095, 0.625     , 0.38690476,\n",
       "       0.44642857, 0.35714286, 0.6547619 , 0.29761905, 0.44642857,\n",
       "       0.44642857, 0.44642857, 0.44642857, 0.23809524, 0.20833333,\n",
       "       0.32738095, 0.29761905, 0.20833333, 0.23809524, 0.23809524,\n",
       "       0.32738095, 0.6547619 , 0.41666667, 0.38690476, 0.35714286,\n",
       "       0.35714286, 0.68452381, 0.38690476, 0.6547619 , 0.5952381 ,\n",
       "       0.6547619 , 0.74404762, 0.44642857, 0.53571429, 0.92261905,\n",
       "       0.68452381, 0.50595238, 0.23809524, 0.23809524, 0.32738095,\n",
       "       0.29761905, 0.20833333, 0.17857143, 0.32738095, 0.32738095,\n",
       "       0.26785714, 0.32738095, 0.26785714, 0.35714286, 0.47619048,\n",
       "       0.35714286, 0.38690476, 0.5952381 , 0.68452381, 0.5952381 ,\n",
       "       0.47619048, 0.53571429, 0.38690476, 0.41666667, 0.50595238,\n",
       "       0.29761905, 0.20833333, 0.29761905, 0.38690476, 0.26785714,\n",
       "       0.20833333, 0.23809524, 0.29761905, 0.38690476, 0.17857143,\n",
       "       0.17857143, 0.17857143, 0.50595238, 0.5952381 , 0.47619048,\n",
       "       0.50595238, 0.47619048, 0.77380952, 0.35714286, 0.26785714,\n",
       "       0.29761905, 0.26785714, 0.41666667, 0.6547619 , 0.68452381,\n",
       "       0.50595238, 0.32738095, 0.625     , 0.35714286, 0.44642857,\n",
       "       0.29761905, 0.08928571, 0.68452381, 0.44642857, 0.35714286,\n",
       "       0.44642857, 0.17857143, 0.35714286, 0.32738095, 0.17857143,\n",
       "       0.50595238, 0.53571429, 0.47619048, 0.53571429, 0.6547619 ,\n",
       "       0.50595238, 0.77380952, 0.53571429, 0.53571429, 0.5952381 ,\n",
       "       0.50595238, 0.35714286, 0.38690476, 0.32738095, 0.47619048,\n",
       "       0.44642857, 0.50595238, 0.44642857, 0.38690476, 0.50595238,\n",
       "       0.6547619 , 0.38690476, 0.44642857, 0.35714286, 0.41666667,\n",
       "       0.44642857, 0.47619048, 0.47619048, 0.47619048, 0.77380952,\n",
       "       0.68452381, 0.20833333, 0.35714286, 0.38690476, 0.32738095,\n",
       "       0.77380952, 0.625     , 0.6547619 , 0.6547619 , 0.41666667,\n",
       "       0.32738095, 0.23809524, 0.47619048, 0.53571429, 0.47619048,\n",
       "       0.625     , 0.32738095, 0.50595238, 0.53571429, 0.38690476,\n",
       "       0.35714286, 0.53571429, 0.41666667, 0.53571429, 0.38690476,\n",
       "       0.32738095, 0.56547619, 0.44642857, 0.5297619 , 0.41071429,\n",
       "       0.57738095, 0.43452381, 0.29761905, 0.29761905, 0.35119048,\n",
       "       0.28571429, 0.44047619, 0.38690476, 0.57142857, 0.57142857,\n",
       "       0.8452381 , 0.83928571, 0.36904762, 0.55952381, 0.57738095,\n",
       "       0.77380952, 0.48809524, 0.58333333, 0.25      , 0.53571429,\n",
       "       0.5       , 0.33333333, 0.45833333, 0.30952381, 0.82738095,\n",
       "       0.44642857, 0.51785714, 0.24404762, 0.23809524, 0.41666667,\n",
       "       0.35714286, 0.625     , 0.4047619 , 0.63095238, 0.44642857,\n",
       "       0.52380952, 0.26785714, 0.6547619 , 0.33928571, 0.41071429,\n",
       "       0.5       , 0.5297619 , 0.57738095, 0.6547619 , 0.18452381,\n",
       "       0.20238095, 0.25      , 0.38690476, 0.38690476, 0.47619048,\n",
       "       0.60714286, 0.46428571, 0.53571429, 0.4702381 , 0.5       ,\n",
       "       0.36309524, 0.38690476, 0.28571429, 0.32738095, 0.80357143,\n",
       "       0.38095238, 0.67857143, 0.63095238, 0.5       , 0.44642857,\n",
       "       0.30952381, 0.28571429, 0.66666667, 0.60714286, 0.46428571,\n",
       "       0.44047619, 0.54761905, 0.54761905, 0.46428571, 0.51785714,\n",
       "       0.63690476, 0.42261905, 0.30952381, 0.32142857, 0.19047619,\n",
       "       0.33928571, 0.50595238, 0.36904762, 0.39880952, 0.38690476,\n",
       "       0.4047619 , 0.51785714, 0.57142857, 0.41071429, 0.4702381 ,\n",
       "       0.33333333, 0.45833333, 0.46428571, 0.41071429, 0.51190476,\n",
       "       0.44047619, 0.60714286, 0.55357143, 0.60714286, 0.51190476,\n",
       "       0.44047619, 0.32142857, 0.30952381, 0.42857143, 0.41071429,\n",
       "       0.375     , 0.41666667, 0.29761905, 0.35714286, 0.42857143,\n",
       "       0.38095238, 0.41666667, 0.7202381 , 0.55952381, 1.        ,\n",
       "       0.8452381 , 0.30952381, 0.41071429, 0.66666667, 0.39880952,\n",
       "       0.47619048, 0.19642857, 0.29166667, 0.30952381, 0.39880952,\n",
       "       0.64285714, 0.44642857, 0.5       , 0.50595238, 0.60119048,\n",
       "       0.7202381 , 0.63690476, 0.46428571, 0.44642857, 0.56547619,\n",
       "       0.41666667, 0.42857143, 0.58928571, 0.38095238, 0.66666667,\n",
       "       0.81547619, 0.93452381, 0.70833333, 0.82142857, 0.3452381 ,\n",
       "       0.55357143, 0.5952381 , 0.43452381, 0.20238095, 0.26785714,\n",
       "       0.42261905, 0.375     , 0.53571429, 0.45833333, 0.5       ,\n",
       "       0.38095238, 0.27380952, 0.29166667, 0.5297619 , 0.5       ,\n",
       "       0.48214286, 0.58333333, 0.67857143, 0.55357143, 0.47619048,\n",
       "       0.41071429, 0.48809524, 0.75595238, 0.36904762, 0.46428571,\n",
       "       0.38095238, 0.52380952, 0.4047619 , 0.61309524, 0.73809524,\n",
       "       0.69047619, 0.27380952, 0.3452381 , 0.46428571, 0.6547619 ,\n",
       "       0.54166667, 0.51190476, 0.69047619, 0.63095238, 0.5952381 ,\n",
       "       0.48809524, 0.47619048, 0.5952381 , 0.5       , 0.74404762,\n",
       "       0.43452381, 0.60714286, 0.57142857, 0.39880952, 0.55357143,\n",
       "       0.38690476, 0.38690476, 0.5297619 , 0.41666667, 0.45833333,\n",
       "       0.48809524, 0.5       , 0.53571429, 0.38690476, 0.39880952,\n",
       "       0.35119048, 0.29761905, 0.55357143, 0.45238095, 0.98809524,\n",
       "       0.21428571, 0.63095238, 0.67857143])"
      ]
     },
     "execution_count": 49,
     "metadata": {},
     "output_type": "execute_result"
    }
   ],
   "source": [
    "minacc = np.min(acc_ary)\n",
    "maxacc = np.max(acc_ary)\n",
    "acc_normalized = (acc_ary - minacc) / (maxacc - minacc)\n",
    "acc_normalized"
   ]
  },
  {
   "cell_type": "code",
   "execution_count": null,
   "id": "acd87618",
   "metadata": {},
   "outputs": [],
   "source": []
  },
  {
   "cell_type": "markdown",
   "id": "bcdf026f",
   "metadata": {},
   "source": [
    "#### *1.5 Broadcasting*\n",
    "Increase all horsepower values by 10% and store the updated values in a new\n",
    "NumPy array. Handle missing data (if any) by replacing it with the mean of the\n",
    "column before applying the increase."
   ]
  },
  {
   "cell_type": "code",
   "execution_count": 60,
   "id": "07ba7c34",
   "metadata": {},
   "outputs": [
    {
     "data": {
      "text/plain": [
       "array([143.        , 181.5       , 165.        , 165.        ,\n",
       "       154.        , 217.8       , 242.        , 236.5       ,\n",
       "       247.5       , 209.        , 187.        , 176.        ,\n",
       "       165.        , 247.5       , 104.5       , 104.5       ,\n",
       "       106.7       ,  93.5       ,  96.8       ,  50.6       ,\n",
       "        95.7       ,  99.        , 104.5       , 124.3       ,\n",
       "        99.        , 236.5       , 220.        , 231.        ,\n",
       "       212.3       ,  96.8       ,  99.        , 104.5       ,\n",
       "       114.91632653, 110.        , 115.5       , 110.        ,\n",
       "        96.8       , 110.        , 181.5       , 192.5       ,\n",
       "       168.3       , 165.        , 198.        , 187.        ,\n",
       "       192.5       , 121.        ,  79.2       , 110.        ,\n",
       "        96.8       ,  94.6       ,  99.        ,  77.        ,\n",
       "        83.6       ,  71.5       ,  75.9       ,  66.        ,\n",
       "        77.        , 104.5       ,  88.        ,  59.4       ,\n",
       "        99.        ,  94.6       , 181.5       , 192.5       ,\n",
       "       165.        , 168.3       , 165.        , 228.8       ,\n",
       "       170.5       , 176.        , 209.        , 106.7       ,\n",
       "       165.        , 143.        , 154.        , 165.        ,\n",
       "       123.2       ,  83.6       ,  95.7       ,  75.9       ,\n",
       "        94.6       , 101.2       , 106.7       ,  88.        ,\n",
       "        96.8       , 192.5       , 165.        , 159.5       ,\n",
       "       150.7       , 165.        , 217.8       , 165.        ,\n",
       "       173.8       , 165.        , 236.5       , 247.5       ,\n",
       "       192.5       , 115.5       , 110.        , 110.        ,\n",
       "        96.8       , 104.5       ,  50.6       , 165.        ,\n",
       "       183.7       , 187.        , 198.        , 110.        ,\n",
       "        96.8       ,  79.2       , 103.4       ,  99.        ,\n",
       "        93.5       , 117.7       ,  99.        , 159.5       ,\n",
       "       253.        ,  53.9       ,  82.5       , 100.1       ,\n",
       "       123.2       , 165.        , 121.        , 134.2       ,\n",
       "       198.        , 104.5       , 114.91632653, 110.        ,\n",
       "       110.        ,  73.7       ,  88.        ,  71.5       ,\n",
       "        82.5       , 110.        , 121.        , 115.5       ,\n",
       "       154.        , 165.        , 165.        , 154.        ,\n",
       "       165.        ,  91.3       ,  73.7       ,  85.8       ,\n",
       "        57.2       ,  67.1       ,  82.5       ,  82.5       ,\n",
       "        82.5       , 106.7       , 102.3       ,  73.7       ,\n",
       "       104.5       , 115.5       ,  79.2       ,  79.2       ,\n",
       "       187.        , 159.5       , 165.        , 162.8       ,\n",
       "       121.        , 115.5       , 121.        , 104.5       ,\n",
       "       121.        , 121.        , 141.9       ,  82.5       ,\n",
       "        91.3       , 110.        ,  85.8       , 105.6       ,\n",
       "        78.1       , 106.7       , 106.7       ,  77.        ,\n",
       "        99.        , 104.5       ,  96.8       , 107.8       ,\n",
       "       126.5       ,  58.3       ,  94.6       ,  89.1       ,\n",
       "       101.2       ,  86.9       ,  91.3       , 154.        ,\n",
       "       165.        , 132.        , 167.2       , 110.        ,\n",
       "       115.5       ,  89.1       ,  99.        ,  57.2       ,\n",
       "        66.        ,  77.        ,  58.3       , 110.        ,\n",
       "        85.8       , 121.        , 104.5       ,  78.1       ,\n",
       "        77.        ,  82.5       ,  79.2       , 112.2       ,\n",
       "       165.        ,  96.8       , 118.8       , 132.        ,\n",
       "       198.        , 159.5       , 143.        , 165.        ,\n",
       "        74.8       ,  88.        ,  63.8       , 105.6       ,\n",
       "        77.        , 159.5       , 121.        , 159.5       ,\n",
       "       143.        , 121.        , 115.5       , 110.        ,\n",
       "       107.8       , 198.        , 187.        , 209.        ,\n",
       "       163.9       ,  85.8       ,  96.8       ,  82.5       ,\n",
       "        97.9       ,  69.3       ,  91.3       ,  73.7       ,\n",
       "        85.8       , 106.7       , 121.        , 121.        ,\n",
       "        52.8       ,  72.6       ,  57.2       ,  77.        ,\n",
       "        66.        , 121.        , 154.        , 152.9       ,\n",
       "       115.5       , 104.5       ,  93.5       ,  96.8       ,\n",
       "       110.        ,  99.        , 115.5       ,  93.5       ,\n",
       "       121.        , 132.        , 159.5       , 181.5       ,\n",
       "       152.9       , 154.        ,  74.8       , 104.5       ,\n",
       "       106.7       ,  82.5       , 104.5       , 115.5       ,\n",
       "        93.5       , 106.7       , 113.3       , 137.5       ,\n",
       "       126.5       , 146.3       ,  78.1       ,  74.8       ,\n",
       "       126.5       ,  93.5       ,  96.8       ,  99.        ,\n",
       "       121.        , 143.        , 141.9       , 151.8       ,\n",
       "       148.5       , 170.5       , 156.2       , 137.5       ,\n",
       "       165.        ,  78.1       ,  71.5       ,  88.        ,\n",
       "        88.        ,  84.7       , 137.5       ,  78.1       ,\n",
       "        99.        ,  77.        ,  77.        ,  71.5       ,\n",
       "        75.9       ,  99.        , 126.5       , 126.5       ,\n",
       "        99.        ,  83.6       ,  66.        ,  77.        ,\n",
       "        71.5       ,  99.        ,  96.8       ,  99.        ,\n",
       "        99.        ,  85.8       ,  99.        ,  82.5       ,\n",
       "       101.2       ,  82.5       ,  71.5       , 115.5       ,\n",
       "        71.5       ,  52.8       ,  52.8       ,  73.7       ,\n",
       "        73.7       ,  73.7       , 114.91632653,  73.7       ,\n",
       "        68.2       , 145.2       , 110.        ,  96.8       ,\n",
       "       114.91632653,  79.2       ,  92.4       ,  92.4       ,\n",
       "       101.2       , 121.        ,  92.4       ,  63.8       ,\n",
       "        70.4       ,  66.        ,  73.7       ,  71.5       ,\n",
       "        68.2       ,  74.8       ,  69.3       ,  71.5       ,\n",
       "        71.5       ,  81.4       , 114.91632653,  82.5       ,\n",
       "        82.5       , 110.        ,  81.4       ,  88.        ,\n",
       "        83.6       , 127.6       , 132.        , 121.        ,\n",
       "       115.5       ,  96.8       ,  93.5       ,  96.8       ,\n",
       "        96.8       ,  96.8       ,  93.5       ,  92.4       ,\n",
       "        99.        , 101.2       , 114.91632653,  81.4       ,\n",
       "        74.8       ,  74.8       ,  69.3       ,  77.        ,\n",
       "        96.8       ,  82.5       ,  77.        ,  73.7       ,\n",
       "        73.7       ,  73.7       , 121.        ,  93.5       ,\n",
       "       101.2       , 123.2       , 105.6       ,  92.4       ,\n",
       "        99.        ,  94.6       ,  57.2       ,  92.4       ,\n",
       "        86.9       ,  90.2       ])"
      ]
     },
     "execution_count": 60,
     "metadata": {},
     "output_type": "execute_result"
    }
   ],
   "source": [
    "hp_ary = pd.to_numeric(df['horsepower'], errors='coerce')\n",
    "\n",
    "hp_mean = hp_ary.mean()\n",
    "hp_ary = hp_ary.fillna(hp_mean)\n",
    "\n",
    "hp_increased = np.array(hp_ary) * 1.1\n",
    "hp_increased"
   ]
  },
  {
   "cell_type": "markdown",
   "id": "6cdcc9ed",
   "metadata": {},
   "source": [
    "#### *1.6 Boolean Indexing*\n",
    "Find the average displacement of cars with an origin of 2 (Europe) using NumPy indexing."
   ]
  },
  {
   "cell_type": "code",
   "execution_count": 63,
   "id": "fdbb2800",
   "metadata": {},
   "outputs": [
    {
     "name": "stdout",
     "output_type": "stream",
     "text": [
      "Average displacement of European cars: 109.14285714285714\n"
     ]
    }
   ],
   "source": [
    "europe_mask = df['origin'] == 2\n",
    "\n",
    "europe_displacement = np.array(df.loc[europe_mask, 'displacement'])\n",
    "\n",
    "europe_avg_displacement = np.mean(europe_displacement)\n",
    "\n",
    "print(f\"Average displacement of European cars: {europe_avg_displacement}\")"
   ]
  },
  {
   "cell_type": "markdown",
   "id": "0ec34439",
   "metadata": {},
   "source": [
    "#### *1.7 Matrix Operations*\n",
    "Create a 2D NumPy array containing the columns mpg, horsepower, and weight.\n",
    "Compute the dot product of this matrix with a given vector [1, 0.5, -0.2]."
   ]
  },
  {
   "cell_type": "code",
   "execution_count": 65,
   "id": "04076cb0",
   "metadata": {},
   "outputs": [],
   "source": [
    "import numpy as np\n",
    "import matplotlib.pyplot as plt\n",
    "\n",
    "import pandas as pd\n",
    "data = pd.read_csv(\"auto-mpg (1).csv\")"
   ]
  },
  {
   "cell_type": "code",
   "execution_count": 68,
   "id": "e8ad7d30",
   "metadata": {},
   "outputs": [],
   "source": [
    "array = np.array(data[[\"mpg\", \"horsepower\", \"weight\"]])"
   ]
  },
  {
   "cell_type": "code",
   "execution_count": 69,
   "id": "fbe66937",
   "metadata": {},
   "outputs": [
    {
     "data": {
      "text/plain": [
       "array([[18.0, '130', 3504],\n",
       "       [15.0, '165', 3693],\n",
       "       [18.0, '150', 3436],\n",
       "       ...,\n",
       "       [32.0, '84', 2295],\n",
       "       [28.0, '79', 2625],\n",
       "       [31.0, '82', 2720]], shape=(398, 3), dtype=object)"
      ]
     },
     "execution_count": 69,
     "metadata": {},
     "output_type": "execute_result"
    }
   ],
   "source": [
    "array"
   ]
  },
  {
   "cell_type": "code",
   "execution_count": 83,
   "id": "3b9775ee",
   "metadata": {},
   "outputs": [
    {
     "name": "stdout",
     "output_type": "stream",
     "text": [
      "Shape of result: (398,)\n",
      "First few values of the dot product:\n",
      "[-617.8        -641.1        -594.2        -595.6        -602.8\n",
      " -754.2        -746.8        -740.9        -758.5        -660.\n",
      " -612.6        -627.8        -662.2        -490.7        -402.9\n",
      " -497.1        -488.3        -453.9        -355.         -318.\n",
      " -465.9        -417.         -402.5        -364.3        -463.6\n",
      " -805.5        -765.2        -760.4        -840.9        -355.\n",
      " -379.8        -373.1        -331.96530612 -457.8        -619.3\n",
      " -598.8        -597.4        -589.6        -745.3        -791.3\n",
      " -740.3        -730.2        -889.         -851.2        -927.5\n",
      " -519.4        -423.6        -587.4        -565.8        -378.\n",
      " -351.6        -349.8        -345.         -291.1        -253.1\n",
      " -309.8        -330.         -384.1        -360.2        -400.8\n",
      " -416.6        -381.2        -759.3        -775.5        -737.\n",
      " -735.3        -642.4        -811.6        -809.9        -799.2\n",
      " -776.4        -398.5        -688.4        -741.6        -775.8\n",
      " -726.4        -512.6        -442.2        -531.3        -377.3\n",
      " -414.         -383.6        -429.7        -364.8        -349.\n",
      " -719.5        -645.4        -712.1        -725.9        -665.4\n",
      " -879.4        -804.8        -780.6        -758.4        -826.5\n",
      " -865.7        -663.7        -553.7        -589.6        -521.\n",
      " -542.2        -510.3        -341.         -913.4        -885.7\n",
      " -832.8        -797.8        -489.8        -391.8        -423.2\n",
      " -406.8        -361.8        -400.5        -419.9        -382.\n",
      " -728.9        -724.6        -319.9        -370.1        -450.9\n",
      " -498.6        -589.8        -453.         -480.4        -631.8\n",
      " -552.9        -501.76530612 -511.2        -602.2        -325.5\n",
      " -424.2        -302.7        -445.9        -690.2        -655.4\n",
      " -652.1        -742.2        -851.8        -802.4        -843.6\n",
      " -762.4        -373.3        -333.1        -395.         -272.8\n",
      " -338.1        -359.5        -360.1        -385.7        -425.3\n",
      " -405.7        -335.5        -586.3        -621.3        -635.4\n",
      " -580.6        -832.6        -800.5        -808.6        -843.4\n",
      " -709.4        -710.9        -676.         -691.5        -531.8\n",
      " -569.2        -556.3        -367.7        -463.3        -512.8\n",
      " -456.4        -468.4        -384.1        -436.5        -530.3\n",
      " -323.4        -578.2        -468.3        -524.4        -518.\n",
      " -451.7        -299.5        -421.8        -378.5        -443.4\n",
      " -385.5        -371.9        -755.5        -747.         -716.9\n",
      " -752.5        -574.6        -596.1        -537.9        -549.5\n",
      " -352.         -378.3        -323.4        -299.5        -660.2\n",
      " -657.8        -655.5        -573.6        -300.         -331.\n",
      " -365.5        -450.5        -559.         -700.         -591.\n",
      " -513.         -687.5        -769.5        -725.5        -696.\n",
      " -663.         -343.5        -361.         -300.         -386.5\n",
      " -320.5        -686.         -740.         -740.         -779.\n",
      " -631.5        -612.         -657.         -637.5        -738.\n",
      " -732.5        -754.5        -776.5        -320.         -479.5\n",
      " -389.5        -481.         -348.2        -340.         -333.5\n",
      " -368.5        -492.5        -443.5        -467.5        -329.9\n",
      " -290.9        -338.2        -339.6        -293.9        -598.1\n",
      " -657.6        -624.3        -635.3        -563.         -530.3\n",
      " -474.9        -615.5        -577.6        -602.9        -550.7\n",
      " -650.4        -603.9        -593.3        -588.8        -553.4\n",
      " -728.5        -367.         -437.         -384.3        -377.6\n",
      " -434.4        -473.3        -504.7        -408.6        -494.2\n",
      " -548.5        -479.9        -599.3        -331.         -363.5\n",
      " -570.         -535.7        -511.7        -587.8        -596.4\n",
      " -686.         -662.9        -705.5        -680.3        -777.6\n",
      " -724.3        -639.3        -694.5        -317.6        -328.4\n",
      " -307.3        -466.6        -642.1        -694.5        -575.3\n",
      " -615.1        -370.8        -360.5        -339.7        -354.2\n",
      " -460.6        -432.7        -455.7        -432.7        -349.3\n",
      " -325.5        -356.9        -334.1        -462.6        -503.6\n",
      " -531.3        -612.1        -364.3        -467.4        -439.6\n",
      " -403.8        -383.3        -342.9        -479.6        -348.7\n",
      " -348.7        -399.6        -520.1        -586.5        -291.9\n",
      " -273.86530612 -361.7        -308.2        -483.3        -410.3\n",
      " -421.         -505.16530612 -389.6        -428.8        -458.4\n",
      " -452.2        -466.5        -405.         -282.9        -304.\n",
      " -286.9        -347.2        -325.5        -341.3        -328.9\n",
      " -376.8        -342.1        -413.6        -368.         -377.26530612\n",
      " -370.8        -400.1        -440.1        -458.4        -577.9\n",
      " -563.3        -496.6        -501.8        -605.6        -665.9\n",
      " -547.8        -632.9        -449.         -457.         -401.\n",
      " -441.5        -434.         -475.         -503.         -531.76530612\n",
      " -323.         -334.         -329.         -355.5        -354.\n",
      " -352.         -367.5        -380.         -321.5        -327.5\n",
      " -327.5        -509.         -522.5        -445.         -489.\n",
      " -453.         -396.         -518.         -488.         -356.\n",
      " -385.         -457.5        -472.        ]\n"
     ]
    }
   ],
   "source": [
    "hp_numeric = pd.to_numeric(df['horsepower'], errors='coerce')\n",
    "hp_mean = hp_numeric.mean()\n",
    "hp_numeric = hp_numeric.fillna(hp_mean)\n",
    "\n",
    "matrix = np.array([\n",
    "    df['mpg'],\n",
    "    hp_numeric,\n",
    "    df['weight']\n",
    "]).T\n",
    "\n",
    "vector = np.array([1, 0.5, -0.2])\n",
    "\n",
    "result = np.dot(matrix, vector)\n",
    "print(\"Shape of result:\", result.shape)\n",
    "print(\"First few values of the dot product:\")\n",
    "print(result)"
   ]
  },
  {
   "cell_type": "markdown",
   "id": "84a91f59",
   "metadata": {},
   "source": [
    "#### 1.8 Sorting\n",
    "Use NumPy to sort the cars by model_year in descending order and display the first\n",
    "five car names."
   ]
  },
  {
   "cell_type": "code",
   "execution_count": 86,
   "id": "075742d3",
   "metadata": {},
   "outputs": [
    {
     "name": "stdout",
     "output_type": "stream",
     "text": [
      "First five car names sorted by model year (descending):\n",
      "chevy s-10\n",
      "ford ranger\n",
      "dodge rampage\n",
      "vw pickup\n",
      "ford mustang gl\n"
     ]
    }
   ],
   "source": [
    "sorted_indices = np.argsort(df['model year'])[::-1]\n",
    "\n",
    "top_5_cars = df['car name'].iloc[sorted_indices[:5]].tolist()\n",
    "\n",
    "print(\"First five car names sorted by model year (descending):\")\n",
    "for car in top_5_cars:\n",
    "    print(car)"
   ]
  },
  {
   "cell_type": "code",
   "execution_count": null,
   "id": "3b14513e",
   "metadata": {},
   "outputs": [],
   "source": []
  },
  {
   "cell_type": "markdown",
   "id": "7d2dd22e",
   "metadata": {},
   "source": [
    "#### *9. Correlation*\n",
    "Compute the Pearson correlation coefficient between mpg and weight using\n",
    "NumPy."
   ]
  },
  {
   "cell_type": "code",
   "execution_count": 97,
   "id": "39137d18",
   "metadata": {},
   "outputs": [
    {
     "name": "stdout",
     "output_type": "stream",
     "text": [
      "Pearson correlation coefficient between mpg and weight -0.8317409332443352\n"
     ]
    }
   ],
   "source": [
    "correlation = np.corrcoef(mpg_ary, weight_ary)[0,1]\n",
    "print(\"Pearson correlation coefficient between mpg and weight\", correlation)"
   ]
  },
  {
   "cell_type": "markdown",
   "id": "1441af34",
   "metadata": {},
   "source": [
    "#### *10.Conditional Aggregates*\n",
    "Calculate the mean mpg for cars grouped by the number of cylinders using NumPy\n",
    "techniques."
   ]
  },
  {
   "cell_type": "code",
   "execution_count": 109,
   "id": "f2dc163a",
   "metadata": {},
   "outputs": [
    {
     "name": "stdout",
     "output_type": "stream",
     "text": [
      "Mean MPG for: 3 cylinders: 20.55\n",
      "Mean MPG for: 4 cylinders: 29.28676470588235\n",
      "Mean MPG for: 5 cylinders: 27.366666666666664\n",
      "Mean MPG for: 6 cylinders: 19.985714285714284\n",
      "Mean MPG for: 8 cylinders: 14.963106796116506\n"
     ]
    }
   ],
   "source": [
    "unique_cylinders = np.unique(df['cylinders'])\n",
    "\n",
    "for cyl in unique_cylinders:\n",
    "    mask = df['cylinders'] == cyl\n",
    "    mean = np.mean(df[mask]['mpg'])\n",
    "    print(\"Mean MPG for:\",cyl , \"cylinders:\", mean)"
   ]
  },
  {
   "cell_type": "code",
   "execution_count": null,
   "id": "c16d8011",
   "metadata": {},
   "outputs": [],
   "source": []
  }
 ],
 "metadata": {
  "kernelspec": {
   "display_name": ".venv",
   "language": "python",
   "name": "python3"
  },
  "language_info": {
   "codemirror_mode": {
    "name": "ipython",
    "version": 3
   },
   "file_extension": ".py",
   "mimetype": "text/x-python",
   "name": "python",
   "nbconvert_exporter": "python",
   "pygments_lexer": "ipython3",
   "version": "3.12.3"
  }
 },
 "nbformat": 4,
 "nbformat_minor": 5
}
